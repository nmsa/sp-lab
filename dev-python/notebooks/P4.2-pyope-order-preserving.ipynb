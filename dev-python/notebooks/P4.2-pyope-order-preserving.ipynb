{
 "cells": [
  {
   "cell_type": "code",
   "execution_count": null,
   "metadata": {},
   "outputs": [],
   "source": [
    "from pyope.ope import OPE\n",
    "from pyope.ope import OPE, ValueRange\n",
    "\n",
    "\n",
    "# from https://pypi.org/project/pyope/\n",
    "\n",
    "\n"
   ]
  },
  {
   "cell_type": "code",
   "execution_count": null,
   "metadata": {},
   "outputs": [],
   "source": [
    "random_key = OPE.generate_key()\n",
    "cipher = OPE(random_key)\n",
    "\n",
    "\n",
    "enc1000 = cipher.encrypt(1000) \n",
    "enc2000 = cipher.encrypt(2000) \n",
    "enc2000 = cipher.encrypt(3000)\n",
    "\n",
    "print(f'enc(1000) = {cipher.encrypt(1000)}') \n",
    "print(f'enc(2000) = {cipher.encrypt(2000)}')\n",
    "print(f'enc(2000) = {cipher.encrypt(3000)}')\n",
    "\n",
    "print(f'1337 == {cipher.decrypt(cipher.encrypt(1337))}')\n",
    "\n",
    "\n"
   ]
  },
  {
   "cell_type": "code",
   "execution_count": null,
   "metadata": {},
   "outputs": [],
   "source": [
    "cipher = OPE(b'long key' * 2, in_range=ValueRange(-100, 100),\n",
    "                              out_range=ValueRange(0, 9999))\n",
    "\n",
    "assert 0 < cipher.encrypt(10) < cipher.encrypt(42) < 9999"
   ]
  },
  {
   "cell_type": "code",
   "execution_count": null,
   "metadata": {},
   "outputs": [],
   "source": [
    "for i in range(100):\n",
    "    print(f'enc({i}) = {cipher.encrypt(i)}')"
   ]
  }
 ],
 "metadata": {
  "kernelspec": {
   "display_name": "Python 3",
   "language": "python",
   "name": "python3"
  },
  "language_info": {
   "codemirror_mode": {
    "name": "ipython",
    "version": 3
   },
   "file_extension": ".py",
   "mimetype": "text/x-python",
   "name": "python",
   "nbconvert_exporter": "python",
   "pygments_lexer": "ipython3",
   "version": "3.8.6"
  }
 },
 "nbformat": 4,
 "nbformat_minor": 4
}
