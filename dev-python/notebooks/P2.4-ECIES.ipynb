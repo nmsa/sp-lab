{
 "cells": [
  {
   "cell_type": "code",
   "execution_count": null,
   "metadata": {},
   "outputs": [],
   "source": [
    "# EC\n",
    "\n",
    "## ECIES: Elliptic Curve Integrated Encryption Scheme"
   ]
  },
  {
   "cell_type": "code",
   "execution_count": 1,
   "metadata": {},
   "outputs": [
    {
     "name": "stdout",
     "output_type": "stream",
     "text": [
      "Encryption public key: 0xf0eb675e4ab551671c4db5951f6ea455f983bd8d522d2cf8321ebb7d1f8dc0e21dea727fc5d623596e38bf7ae47a6871ce55e73459070a54b4db7e32de67769c\n",
      "Decryption private key: 0xb59ca5d9d63b9f29febc2fcaa9160426c2a30bef485d7594d35de15f139c3329\n",
      "Plaintext: b'Some plaintext for encryption'\n"
     ]
    },
    {
     "ename": "NameError",
     "evalue": "name 'encrypted' is not defined",
     "output_type": "error",
     "traceback": [
      "\u001b[0;31m---------------------------------------------------------------------------\u001b[0m",
      "\u001b[0;31mNameError\u001b[0m                                 Traceback (most recent call last)",
      "\u001b[0;32m<ipython-input-1-977804c909f9>\u001b[0m in \u001b[0;36m<module>\u001b[0;34m\u001b[0m\n\u001b[1;32m     14\u001b[0m \u001b[0;34m\u001b[0m\u001b[0m\n\u001b[1;32m     15\u001b[0m \u001b[0;31m# TODO: encrypt with public\u001b[0m\u001b[0;34m\u001b[0m\u001b[0;34m\u001b[0m\u001b[0;34m\u001b[0m\u001b[0m\n\u001b[0;32m---> 16\u001b[0;31m \u001b[0mprint\u001b[0m\u001b[0;34m(\u001b[0m\u001b[0;34m\"Encrypted:\"\u001b[0m\u001b[0;34m,\u001b[0m \u001b[0mbinascii\u001b[0m\u001b[0;34m.\u001b[0m\u001b[0mhexlify\u001b[0m\u001b[0;34m(\u001b[0m\u001b[0mencrypted\u001b[0m\u001b[0;34m)\u001b[0m\u001b[0;34m)\u001b[0m\u001b[0;34m\u001b[0m\u001b[0;34m\u001b[0m\u001b[0m\n\u001b[0m\u001b[1;32m     17\u001b[0m \u001b[0;34m\u001b[0m\u001b[0m\n\u001b[1;32m     18\u001b[0m \u001b[0;31m# TODO: decrypt with private\u001b[0m\u001b[0;34m\u001b[0m\u001b[0;34m\u001b[0m\u001b[0;34m\u001b[0m\u001b[0m\n",
      "\u001b[0;31mNameError\u001b[0m: name 'encrypted' is not defined"
     ]
    }
   ],
   "source": [
    "from ecies.utils import generate_eth_key\n",
    "from ecies import encrypt, decrypt\n",
    "import binascii\n",
    "\n",
    "# TODO: generate keys\n",
    "privKey = generate_eth_key()\n",
    "privKeyHex = privKey.to_hex()\n",
    "pubKeyHex = privKey.public_key.to_hex()\n",
    "print(\"Encryption public key:\", pubKeyHex)\n",
    "print(\"Decryption private key:\", privKeyHex)\n",
    "\n",
    "plaintext = b'Some plaintext for encryption'\n",
    "print(\"Plaintext:\", plaintext)\n",
    "\n",
    "# TODO: encrypt with public\n",
    "print(\"Encrypted:\", binascii.hexlify(encrypted))\n",
    "\n",
    "# TODO: decrypt with private\n",
    "#\n",
    "print(\"Decrypted:\", decrypted)"
   ]
  },
  {
   "cell_type": "markdown",
   "metadata": {},
   "source": [
    "## ECDH for key agreement with AES GCM for transport\n"
   ]
  },
  {
   "cell_type": "code",
   "execution_count": 1,
   "metadata": {},
   "outputs": [],
   "source": [
    "from cryptography.hazmat.backends import default_backend\n",
    "from cryptography.hazmat.primitives.asymmetric import ec\n",
    "\n",
    "\n",
    "#TODO Generate Alice's Key Pair\n",
    "\n",
    "\n",
    "\n",
    "#TODO Generate Bob's Key Pair\n",
    "\n",
    "\n",
    "\n",
    "\n",
    "#TODO Initialize Key Agreement Protocol\n",
    "\n",
    "\n",
    "\n",
    "\n",
    "#Assume that each other obtained the Other's Public Key\n",
    "\n",
    "\n",
    "# Derive a shared Secret"
   ]
  },
  {
   "cell_type": "markdown",
   "metadata": {},
   "source": [
    "## AES GCM for transport\n",
    "\n",
    "Assymetric encryption is usually only used to agree on the key.\n",
    "Derive a key from the shared secret in both Alice's and Bob's side and transfer the images using AES GCM\n",
    "\n",
    "\n",
    "\n"
   ]
  },
  {
   "cell_type": "code",
   "execution_count": null,
   "metadata": {},
   "outputs": [],
   "source": [
    "image = Image.open('res/penguin.png').convert('RGBA').convert('RGB') \n",
    "plot = plt.imshow(image)\n",
    "\n",
    "\n"
   ]
  },
  {
   "cell_type": "markdown",
   "metadata": {},
   "source": [
    "## What about performance?\n",
    "\n",
    "Change the ECIES solution to encrypt the images in res and understand how different are the performances."
   ]
  }
 ],
 "metadata": {
  "kernelspec": {
   "display_name": "Python 3",
   "language": "python",
   "name": "python3"
  },
  "language_info": {
   "codemirror_mode": {
    "name": "ipython",
    "version": 3
   },
   "file_extension": ".py",
   "mimetype": "text/x-python",
   "name": "python",
   "nbconvert_exporter": "python",
   "pygments_lexer": "ipython3",
   "version": "3.7.4"
  }
 },
 "nbformat": 4,
 "nbformat_minor": 4
}
