{
 "cells": [
  {
   "cell_type": "code",
   "execution_count": 7,
   "metadata": {},
   "outputs": [],
   "source": [
    "from Pyfhel import Pyfhel, PyPtxt, PyCtxt\n",
    "# Pyfhel class contains most of the functions.\n",
    "# PyPtxt is the plaintext class\n",
    "# PyCtxt is the ciphertext class"
   ]
  },
  {
   "cell_type": "code",
   "execution_count": 8,
   "metadata": {},
   "outputs": [
    {
     "name": "stdout",
     "output_type": "stream",
     "text": [
      "1. Creating Context and KeyGen in a Pyfhel Object. \n",
      "<Pyfhel obj at 0x7fe80d606d10, [pk:Y, sk:Y, rtk:-, rlk:-, contx(p=65537, m=2048, base=2, sec=128, dig=64i.32f, batch=False)]>\n"
     ]
    }
   ],
   "source": [
    "print(\"1. Creating Context and KeyGen in a Pyfhel Object. \")\n",
    "HE = Pyfhel()           # Creating empty Pyfhel object\n",
    "HE.contextGen(p=65537)  # Generating context. The value of p is important.\n",
    "                        #  There are many configurable parameters on this step\n",
    "                        #  +info in https://github.com/ibarrond/Pyfhel/blob/master/examples/Demo_ContextParameters.py\n",
    "HE.keyGen()             # Key Generation.\n",
    "print(HE)"
   ]
  },
  {
   "cell_type": "code",
   "execution_count": 9,
   "metadata": {},
   "outputs": [
    {
     "name": "stdout",
     "output_type": "stream",
     "text": [
      "2. Encrypting integers\n"
     ]
    }
   ],
   "source": [
    "print(\"2. Encrypting integers\")\n",
    "integer1 = 127\n",
    "integer2 = -2\n",
    "ctxt1 = HE.encryptInt(integer1) # Encryption makes use of the public key\n",
    "ctxt2 = HE.encryptInt(integer2) # For integers, encryptInt function is used.\n"
   ]
  },
  {
   "cell_type": "code",
   "execution_count": 10,
   "metadata": {},
   "outputs": [
    {
     "name": "stdout",
     "output_type": "stream",
     "text": [
      "3. Operating with encrypted integers\n",
      "Sum: <Pyfhel Ciphertext at 0x7fe7ec2f6f30, encoding=INTEGER, size=2/2, noiseBudget=27>\n",
      "Sub: <Pyfhel Ciphertext at 0x7fe7ec2fc318, encoding=INTEGER, size=2/2, noiseBudget=27>\n",
      "Mult:<Pyfhel Ciphertext at 0x7fe7ec2fc360, encoding=INTEGER, size=3/3, noiseBudget=1>\n"
     ]
    }
   ],
   "source": [
    "print(\"3. Operating with encrypted integers\")\n",
    "ctxtSum = ctxt1 + ctxt2         # `ctxt1 += ctxt2` for quicker inplace operation\n",
    "ctxtSub = ctxt1 - ctxt2         # `ctxt1 -= ctxt2` for quicker inplace operation\n",
    "ctxtMul = ctxt1 * ctxt2         # `ctxt1 *= ctxt2` for quicker inplace operation\n",
    "print(f\"Sum: {ctxtSum}\")\n",
    "print(f\"Sub: {ctxtSub}\")\n",
    "print(f\"Mult:{ctxtMul}\")"
   ]
  },
  {
   "cell_type": "code",
   "execution_count": 11,
   "metadata": {},
   "outputs": [
    {
     "name": "stdout",
     "output_type": "stream",
     "text": [
      "4. Decrypting result:\n",
      "     addition:       decrypt(ctxt1 + ctxt2) =   125\n",
      "     substraction:   decrypt(ctxt1 - ctxt2) =   129\n",
      "     multiplication: decrypt(ctxt1 + ctxt2) =   -254\n"
     ]
    }
   ],
   "source": [
    "print(\"4. Decrypting result:\")\n",
    "resSum = HE.decryptInt(ctxtSum) # Decryption must use the corresponding function\n",
    "                                #  decryptInt.\n",
    "resSub = HE.decryptInt(ctxtSub) \n",
    "resMul = HE.decryptInt(ctxtMul)\n",
    "print(\"     addition:       decrypt(ctxt1 + ctxt2) =  \", resSum)\n",
    "print(\"     substraction:   decrypt(ctxt1 - ctxt2) =  \", resSub)\n",
    "print(\"     multiplication: decrypt(ctxt1 + ctxt2) =  \", resMul)"
   ]
  }
 ],
 "metadata": {
  "kernelspec": {
   "display_name": "Python 3",
   "language": "python",
   "name": "python3"
  },
  "language_info": {
   "codemirror_mode": {
    "name": "ipython",
    "version": 3
   },
   "file_extension": ".py",
   "mimetype": "text/x-python",
   "name": "python",
   "nbconvert_exporter": "python",
   "pygments_lexer": "ipython3",
   "version": "3.6.9"
  }
 },
 "nbformat": 4,
 "nbformat_minor": 4
}