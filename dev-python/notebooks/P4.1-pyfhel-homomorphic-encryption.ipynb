{
 "cells": [
  {
   "cell_type": "code",
   "execution_count": null,
   "metadata": {},
   "outputs": [],
   "source": [
    "from Pyfhel import Pyfhel, PyPtxt, PyCtxt\n",
    "# Pyfhel class contains most of the functions.\n",
    "# PyPtxt is the plaintext class\n",
    "# PyCtxt is the ciphertext class"
   ]
  },
  {
   "cell_type": "code",
   "execution_count": null,
   "metadata": {},
   "outputs": [],
   "source": [
    "print(\"1. Creating Context and KeyGen in a Pyfhel Object. \")\n",
    "HE = Pyfhel()           # Creating empty Pyfhel object\n",
    "HE.contextGen(p=65537)  # Generating context. The value of p is important.\n",
    "                        #  There are many configurable parameters on this step\n",
    "                        #  +info in https://github.com/ibarrond/Pyfhel/blob/master/examples/Demo_ContextParameters.py\n",
    "HE.keyGen()             # Key Generation.\n",
    "print(HE)"
   ]
  },
  {
   "cell_type": "code",
   "execution_count": null,
   "metadata": {},
   "outputs": [],
   "source": [
    "print(\"2. Encrypting integers\")\n",
    "integer1 = 127\n",
    "integer2 = -2\n",
    "ctxt1 = HE.encryptInt(integer1) # Encryption makes use of the public key\n",
    "ctxt2 = HE.encryptInt(integer2) # For integers, encryptInt function is used.\n",
    "\n",
    "print(f\"ctxt1 {ctxt1}\")\n",
    "print(f\"ctxt2 {ctxt2}\")\n",
    "\n",
    "\n"
   ]
  },
  {
   "cell_type": "code",
   "execution_count": null,
   "metadata": {},
   "outputs": [],
   "source": [
    "print(\"3. Operating with encrypted integers\")\n",
    "ctxtSum = ctxt1 + ctxt2         # `ctxt1 += ctxt2` for quicker inplace operation\n",
    "ctxtSub = ctxt1 - ctxt2         # `ctxt1 -= ctxt2` for quicker inplace operation\n",
    "ctxtMul = ctxt1 * ctxt2         # `ctxt1 *= ctxt2` for quicker inplace operation\n",
    "print(f\"Sum: {ctxtSum}\")\n",
    "print(f\"Sub: {ctxtSub}\")\n",
    "print(f\"Mult:{ctxtMul}\")"
   ]
  },
  {
   "cell_type": "code",
   "execution_count": null,
   "metadata": {},
   "outputs": [],
   "source": [
    "%%time\n",
    "\n",
    "\n",
    "print(\"4. Decrypting result:\")\n",
    "resSum = HE.decryptInt(ctxtSum) # Decryption must use the corresponding function\n",
    "                                #  decryptInt.\n",
    "resSub = HE.decryptInt(ctxtSub) \n",
    "resMul = HE.decryptInt(ctxtMul)\n",
    "print(\"     addition:       decrypt(ctxt1 + ctxt2) =  \", resSum)\n",
    "print(\"     substraction:   decrypt(ctxt1 - ctxt2) =  \", resSub)\n",
    "print(\"     multiplication: decrypt(ctxt1 + ctxt2) =  \", resMul)\n",
    "\n"
   ]
  },
  {
   "cell_type": "code",
   "execution_count": null,
   "metadata": {},
   "outputs": [],
   "source": [
    "sum_with_5 = ctxt1 + 5         # `ctxt1 += ctxt2` for quicker inplace operation\n",
    "\n",
    "print(f'sum_with_5: {sum_with_5}')\n",
    "\n",
    "\n",
    "sum_with_5_dec = HE.decryptInt(sum_with_5) # Decryption must use the corresponding function\n",
    "\n",
    "print(f'sum_with_5_dec: {sum_with_5_dec}')\n",
    "\n"
   ]
  },
  {
   "cell_type": "code",
   "execution_count": null,
   "metadata": {},
   "outputs": [],
   "source": []
  }
 ],
 "metadata": {
  "kernelspec": {
   "display_name": "Python 3",
   "language": "python",
   "name": "python3"
  },
  "language_info": {
   "codemirror_mode": {
    "name": "ipython",
    "version": 3
   },
   "file_extension": ".py",
   "mimetype": "text/x-python",
   "name": "python",
   "nbconvert_exporter": "python",
   "pygments_lexer": "ipython3",
   "version": "3.8.6"
  }
 },
 "nbformat": 4,
 "nbformat_minor": 4
}
