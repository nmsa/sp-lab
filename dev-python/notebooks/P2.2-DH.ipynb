{
 "cells": [
  {
   "cell_type": "markdown",
   "metadata": {},
   "source": [
    "## Diffie Hellman in python\n",
    "\n",
    "Below you can implement the DH protocol for key agreement\n"
   ]
  },
  {
   "cell_type": "code",
   "execution_count": 1,
   "metadata": {},
   "outputs": [],
   "source": [
    "from cryptography.hazmat.backends import default_backend\n",
    "from cryptography.hazmat.primitives import hashes\n",
    "from cryptography.hazmat.primitives.asymmetric import dh\n",
    "from cryptography.hazmat.primitives.kdf.hkdf import HKDF\n",
    "from cryptography.hazmat.backends import default_backend\n",
    "\n",
    "\n"
   ]
  },
  {
   "cell_type": "code",
   "execution_count": null,
   "metadata": {},
   "outputs": [],
   "source": []
  },
  {
   "cell_type": "code",
   "execution_count": 2,
   "metadata": {},
   "outputs": [
    {
     "name": "stdout",
     "output_type": "stream",
     "text": [
      "17\n",
      "6\n",
      "[secret] Alice's X: 0\n",
      "Y can be transmited clear: 0\n",
      "[secret] Bob's X: 0\n",
      "Y can be transmited clear: 0\n",
      "[secret] Alice's key: 0\n",
      "[secret] Bob's   key: 0\n"
     ]
    }
   ],
   "source": [
    "\n",
    "\n",
    "# from the slides we know that 6 is a primitive root of 17\n",
    "# TODO: IN THE END after it all works, select better numbers for q and alpha\n",
    "publicP = 17;\n",
    "publicG = 6;\n",
    "\n",
    "print(publicP);\n",
    "print(publicG);\n",
    "\n",
    "#### private Alice inital part \n",
    "\n",
    "# TODO: select random aliceX (a)\n",
    "\n",
    "print(f'[secret] Alice\\'s X: {aliceX}');\n",
    "\n",
    "\n",
    "\n",
    "## transmit aliceY -- you can assume that Bob will know it\n",
    "print(f'Y can be transmited clear: {aliceY}');\n",
    "\n",
    "\n",
    "#### private Bob  part \n",
    "\n",
    "\n",
    "# TODO: select random bobX (b)\n",
    "\n",
    "print(f'[secret] Bob\\'s X: {bobX}');\n",
    "\n",
    "# TODO: Compute bobY = publicG ^ bobX mod publicP\n",
    "\n",
    "\n",
    "\n",
    "## transmit bobY \n",
    "print(f'Y can be transmited clear: {bobY}');\n",
    "\n",
    "#TODO: Bob Computes  bobK = (aliceY) ^ bobX mod publicP\n",
    "\n",
    "\n",
    "\n",
    "#### private Alice final part \n",
    "\n",
    "#TODO: Alice Computes  aliceK = (bobY) ^ aliceX mod publicP\n",
    "\n",
    "\n",
    "\n",
    "print(f'[secret] Alice\\'s key: {aliceKey}');\n",
    "print(f'[secret] Bob\\'s   key: {aliceKey}');\n"
   ]
  },
  {
   "cell_type": "code",
   "execution_count": null,
   "metadata": {},
   "outputs": [],
   "source": [
    "#  Details about this implementation on : \n",
    "#    https://cryptography.io/en/latest/hazmat/primitives/asymmetric/dh/"
   ]
  },
  {
   "cell_type": "code",
   "execution_count": 8,
   "metadata": {},
   "outputs": [
    {
     "name": "stdout",
     "output_type": "stream",
     "text": [
      "<cryptography.hazmat.primitives.asymmetric.dh.DHParameterNumbers object at 0x7f80da4adb90>\n",
      "CPU times: user 13.4 s, sys: 63.3 ms, total: 13.5 s\n",
      "Wall time: 13.5 s\n"
     ]
    }
   ],
   "source": [
    "%%time\n",
    "\n",
    "# parameters should be agreed upon and can be shared publicly\n",
    "\n",
    "parameters = dh.generate_parameters(generator=2, key_size=1024, backend=default_backend())\n",
    "# yellow\n",
    "\n",
    "print(parameters.parameter_numbers())\n",
    "\n"
   ]
  },
  {
   "cell_type": "code",
   "execution_count": 9,
   "metadata": {},
   "outputs": [
    {
     "name": "stdout",
     "output_type": "stream",
     "text": [
      "[A-side] shared_key_B_then_A: b'GL\\xcb\\x13<\\xf5*\\xfbJ\\x94_\\xfd\\xf5\\xc2G\\x9e\\xf1\\x91\\x16\\x93\\xc9\\xb2 |\\x9c\\x18f4>Y:\\xef{\\xed\\xfeH\\xf48\\xf9\\x8f%\\xc5B2\\xe3\\xcejf\\xe4\\x9da\\xc5U%L\\x13\\xb4\\x89\\xab\\x18\\xc6\\xd1t\\xfe\\x94^N\\x8f\\xc1\\xbf5\\xa6\\x96\\x9d\\x04=\\x92\\x1c\\xca\\xcf\\x8c\\x1a\\xba\\x1f\\xc3\\x8f\\x95iY\\x81:\\x83\\xcaV\\x92?!\\xf1)3\\xd5\\xda\\xbeo6W\\x0e\\x0cn\\xf1M\\x1d\\xfdj\\t\\xac&M\\x11\\x90;3\\xc7\\xb0\\xd6SD@'\n",
      "[A-side] derived_key_B_then_A: b'\\xb3\\xa2Tsw\\x90\\x1f\\xb3vS\\x9a\\xa4\\x15\\xfd\\xf2\\x02[CK\\xf3@\\xd5\"G\\xef>o\\xbe\\xe6h\\xca\\x86'\n",
      "[B-side] shared_key_A_then_B: b'GL\\xcb\\x13<\\xf5*\\xfbJ\\x94_\\xfd\\xf5\\xc2G\\x9e\\xf1\\x91\\x16\\x93\\xc9\\xb2 |\\x9c\\x18f4>Y:\\xef{\\xed\\xfeH\\xf48\\xf9\\x8f%\\xc5B2\\xe3\\xcejf\\xe4\\x9da\\xc5U%L\\x13\\xb4\\x89\\xab\\x18\\xc6\\xd1t\\xfe\\x94^N\\x8f\\xc1\\xbf5\\xa6\\x96\\x9d\\x04=\\x92\\x1c\\xca\\xcf\\x8c\\x1a\\xba\\x1f\\xc3\\x8f\\x95iY\\x81:\\x83\\xcaV\\x92?!\\xf1)3\\xd5\\xda\\xbeo6W\\x0e\\x0cn\\xf1M\\x1d\\xfdj\\t\\xac&M\\x11\\x90;3\\xc7\\xb0\\xd6SD@'\n",
      "derived_key_A_then_B: b'\\xb3\\xa2Tsw\\x90\\x1f\\xb3vS\\x9a\\xa4\\x15\\xfd\\xf2\\x02[CK\\xf3@\\xd5\"G\\xef>o\\xbe\\xe6h\\xca\\x86'\n"
     ]
    }
   ],
   "source": [
    "%%time\n",
    "\n",
    "### --- Alice side ----\n",
    "# Generate a private key for use in the exchange.\n",
    "\n",
    "private_key_A = parameters.generate_private_key() # red\n",
    "public_mixed_with_A  = private_key_A.public_key()  #orange\n",
    "\n",
    "\n",
    "### --- B side ----\n",
    "\n",
    "# In a real handshake the peer_public_key will be received from the\n",
    "# other party. For this example we'll generate another private key and\n",
    "# get a public key from that. Note that in a DH handshake both peers\n",
    "# must agree on a common set of parameters.\n",
    "private_key_B = parameters.generate_private_key() # Blue\n",
    "public_mixed_with_B = private_key_B.public_key()  # light-blue-green :-) \n",
    "\n",
    "\n",
    "\n",
    "### --- A side ----\n",
    "\n",
    "shared_key_B_then_A = private_key_A.exchange(public_mixed_with_B) # brown\n",
    "\n",
    "print(f'[A-side] shared_key_B_then_A: {shared_key_B_then_A}') #brown\n",
    "\n",
    "\n",
    "# Perform key derivation.\n",
    "derived_key_B_then_A = HKDF(\n",
    "    algorithm = hashes.SHA256(),\n",
    "    length=32,\n",
    "    salt=None,\n",
    "    info=b'handshake data',\n",
    "    backend=default_backend()\n",
    ").derive(shared_key_B_then_A)\n",
    "\n",
    "\n",
    "print(f'[A-side] derived_key_B_then_A: {derived_key_B_then_A}')\n",
    "\n",
    "\n",
    "\n",
    "\n",
    "\n",
    "\n",
    "\n",
    "### --- B side ----\n",
    "\n",
    "shared_key_A_then_B = private_key_B.exchange(public_mixed_with_A) #\n",
    "\n",
    "print(f'[B-side] shared_key_A_then_B: {shared_key_A_then_B}') #brown\n",
    "\n",
    "\n",
    "\n",
    "\n",
    "# Perform key derivation.\n",
    "derived_key_A_then_B = HKDF(\n",
    "    algorithm = hashes.SHA256(),\n",
    "    length=32,\n",
    "    salt=None,\n",
    "    info=b'handshake data',\n",
    "    backend=default_backend()\n",
    ").derive(shared_key_A_then_B)\n",
    "\n",
    "\n",
    "print(f'derived_key_A_then_B: {derived_key_A_then_B}')\n",
    "\n",
    "\n",
    "\n",
    "\n",
    "\n",
    "\n",
    "\n",
    "\n",
    "\n",
    "\n",
    "\n",
    "\n"
   ]
  },
  {
   "cell_type": "markdown",
   "metadata": {},
   "source": []
  }
 ],
 "metadata": {
  "kernelspec": {
   "display_name": "Python 3",
   "language": "python",
   "name": "python3"
  },
  "language_info": {
   "codemirror_mode": {
    "name": "ipython",
    "version": 3
   },
   "file_extension": ".py",
   "mimetype": "text/x-python",
   "name": "python",
   "nbconvert_exporter": "python",
   "pygments_lexer": "ipython3",
   "version": "3.7.4"
  }
 },
 "nbformat": 4,
 "nbformat_minor": 4
}
