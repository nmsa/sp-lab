{
 "cells": [
  {
   "cell_type": "markdown",
   "metadata": {},
   "source": [
    "## Diffie Hellman in python\n",
    "\n",
    "Below you can implement the DH protocol for key agreement\n"
   ]
  },
  {
   "cell_type": "code",
   "execution_count": 1,
   "metadata": {},
   "outputs": [],
   "source": [
    "from cryptography.hazmat.backends import default_backend\n",
    "from cryptography.hazmat.primitives import hashes\n",
    "from cryptography.hazmat.primitives.asymmetric import dh\n",
    "from cryptography.hazmat.primitives.kdf.hkdf import HKDF\n",
    "from cryptography.hazmat.backends import default_backend\n",
    "\n",
    "\n"
   ]
  },
  {
   "cell_type": "code",
   "execution_count": null,
   "metadata": {},
   "outputs": [],
   "source": []
  },
  {
   "cell_type": "code",
   "execution_count": 2,
   "metadata": {},
   "outputs": [
    {
     "name": "stdout",
     "output_type": "stream",
     "text": [
      "17\n",
      "6\n",
      "[secret] Alice's X: 0\n",
      "Y can be transmited clear: 0\n",
      "[secret] Bob's X: 0\n",
      "Y can be transmited clear: 0\n",
      "[secret] Alice's key: 0\n",
      "[secret] Bob's   key: 0\n"
     ]
    }
   ],
   "source": [
    "\n",
    "\n",
    "# from the slides we know that 6 is a primitive root of 17\n",
    "# TODO: IN THE END after it all works, select better numbers for q and alpha\n",
    "publicQ = 17;\n",
    "publicG = 6;\n",
    "\n",
    "print(publicP);\n",
    "print(publicG);\n",
    "\n",
    "#### private Alice inital part \n",
    "\n",
    "# TODO: select random aliceX\n",
    "\n",
    "print(f'[secret] Alice\\'s X: {aliceX}');\n",
    "\n",
    "# TODO: Compute aliceY = publicAlpha ^ aliceX mod publicQ\n",
    "\n",
    "## transmit aliceY -- you can assume that Bob will know it\n",
    "print(f'Y can be transmited clear: {aliceY}');\n",
    "\n",
    "\n",
    "#### private Bob  part \n",
    "\n",
    "\n",
    "# TODO: select random bobX\n",
    "\n",
    "print(f'[secret] Bob\\'s X: {bobX}');\n",
    "\n",
    "# TODO: Compute bobY = publicAlpha ^ bobX mod publicQ\n",
    "\n",
    "## transmit bobY \n",
    "print(f'Y can be transmited clear: {bobY}');\n",
    "\n",
    "#TODO: Bob Computes  bobK = aliceY)^bobX mod publicQ\n",
    "\n",
    "\n",
    "\n",
    "#### private Alice final part \n",
    "\n",
    "#TODO: Alice Computes  aliceK = bobY)^aliceX mod publicQ\n",
    "\n",
    "\n",
    "\n",
    "print(f'[secret] Alice\\'s key: {aliceKey}');\n",
    "print(f'[secret] Bob\\'s   key: {aliceKey}');\n"
   ]
  },
  {
   "cell_type": "code",
   "execution_count": null,
   "metadata": {},
   "outputs": [],
   "source": [
    "#  Details about this implementation on : \n",
    "#    https://cryptography.io/en/latest/hazmat/primitives/asymmetric/dh/"
   ]
  },
  {
   "cell_type": "code",
   "execution_count": 3,
   "metadata": {},
   "outputs": [
    {
     "name": "stdout",
     "output_type": "stream",
     "text": [
      "<cryptography.hazmat.primitives.asymmetric.dh.DHParameterNumbers object at 0x7f80da78c810>\n",
      "CPU times: user 3.56 s, sys: 31.8 ms, total: 3.59 s\n",
      "Wall time: 3.6 s\n"
     ]
    }
   ],
   "source": [
    "# #%%time\n",
    "\n",
    "# parameters should be agreed upon and can be shared publicly\n",
    "\n",
    "parameters = dh.generate_parameters(generator=2, key_size=1024, backend=default_backend())\n",
    "\n",
    "\n",
    "print(parameters.parameter_numbers())\n",
    "\n",
    "peer_private_key = parameters.generate_private_key()\n"
   ]
  },
  {
   "cell_type": "code",
   "execution_count": 4,
   "metadata": {},
   "outputs": [
    {
     "name": "stdout",
     "output_type": "stream",
     "text": [
      "[A-side] shared_key_B_then_A: b'\\xb3E\\xd9\\xde\\xfdn`Eg\\xea\\x99\\x19qyD\\xdf\\t{\\xa4\\xd5~\\x05\\xf8T\\xcd\\x8f\\xf3\\xa4\\xb6bs\\xa9\\xe3\\xc1y\\x8a\\xe1\\xd8\\\\\\x0e\\xed\\x00\\x84\\xa2Q&e\\xb001\\xf5\\xc2\\xf8\\x15\\xa6\\xfc\\x03\\xc72\\x90\\x0c\\x0c\\xb9$`\\xa99\\x9a\\xdf9\\xf1i\\x05\\xbd;\\xd4NS\\xb1%\\x1e\\xe7&^\\xb6\\x0b\\xa2\\xe9\\x08\\xe5\\xe2JdW\\xc4\\xa0\\xed\\xa5\\xc9o\\xb2\\x08\\t\\x9e\\xeb\\xe9G\\x18\\x9d\\x85\\x808\\x98\\xa9\\x97\\x052\\x0e\\xbd,_\\x02\\xd8\\x9d\\xe2\\x92\\xb0\\x0e'\n",
      "[A-side] derived_key_B_then_A: b'\\x7f\\xf8\\xad\"\\x00R-F\\xe8#<\\x8b\\xc6\\xbc\\xd7\\xee5\\xcd\\xd5l\\x10\\x83\\x01E\\xdb=\\x9d\\x07\\x8e\\xcd\\x807'\n",
      "[B-side] shared_key_A_then_B: b'\\xb3E\\xd9\\xde\\xfdn`Eg\\xea\\x99\\x19qyD\\xdf\\t{\\xa4\\xd5~\\x05\\xf8T\\xcd\\x8f\\xf3\\xa4\\xb6bs\\xa9\\xe3\\xc1y\\x8a\\xe1\\xd8\\\\\\x0e\\xed\\x00\\x84\\xa2Q&e\\xb001\\xf5\\xc2\\xf8\\x15\\xa6\\xfc\\x03\\xc72\\x90\\x0c\\x0c\\xb9$`\\xa99\\x9a\\xdf9\\xf1i\\x05\\xbd;\\xd4NS\\xb1%\\x1e\\xe7&^\\xb6\\x0b\\xa2\\xe9\\x08\\xe5\\xe2JdW\\xc4\\xa0\\xed\\xa5\\xc9o\\xb2\\x08\\t\\x9e\\xeb\\xe9G\\x18\\x9d\\x85\\x808\\x98\\xa9\\x97\\x052\\x0e\\xbd,_\\x02\\xd8\\x9d\\xe2\\x92\\xb0\\x0e'\n",
      "derived_key_A_then_B: b'\\x7f\\xf8\\xad\"\\x00R-F\\xe8#<\\x8b\\xc6\\xbc\\xd7\\xee5\\xcd\\xd5l\\x10\\x83\\x01E\\xdb=\\x9d\\x07\\x8e\\xcd\\x807'\n",
      "CPU times: user 3.67 ms, sys: 2.97 ms, total: 6.64 ms\n",
      "Wall time: 5.43 ms\n"
     ]
    }
   ],
   "source": [
    "# %%time\n",
    "\n",
    "### --- A side ----\n",
    "# Generate a private key for use in the exchange.\n",
    "\n",
    "private_key_A = parameters.generate_private_key()\n",
    "public_mixed_with_A  = private_key_A.public_key()\n",
    "\n",
    "\n",
    "### --- B side ----\n",
    "\n",
    "# In a real handshake the peer_public_key will be received from the\n",
    "# other party. For this example we'll generate another private key and\n",
    "# get a public key from that. Note that in a DH handshake both peers\n",
    "# must agree on a common set of parameters.\n",
    "private_key_B = parameters.generate_private_key()\n",
    "public_mixed_with_B = private_key_B.public_key()\n",
    "\n",
    "\n",
    "\n",
    "### --- A side ----\n",
    "\n",
    "shared_key_B_then_A = private_key_A.exchange(public_mixed_with_B)\n",
    "\n",
    "print(f'[A-side] shared_key_B_then_A: {shared_key_B_then_A}')\n",
    "\n",
    "\n",
    "# Perform key derivation.\n",
    "derived_key_B_then_A = HKDF(\n",
    "    algorithm = hashes.SHA256(),\n",
    "    length=32,\n",
    "    salt=None,\n",
    "    info=b'handshake data',\n",
    "    backend=default_backend()\n",
    ").derive(shared_key_B_then_A)\n",
    "\n",
    "\n",
    "print(f'[A-side] derived_key_B_then_A: {derived_key_B_then_A}')\n",
    "\n",
    "\n",
    "\n",
    "\n",
    "\n",
    "\n",
    "\n",
    "### --- B side ----\n",
    "\n",
    "shared_key_A_then_B = private_key_B.exchange(public_mixed_with_A)\n",
    "\n",
    "print(f'[B-side] shared_key_A_then_B: {shared_key_A_then_B}')\n",
    "\n",
    "\n",
    "\n",
    "\n",
    "# Perform key derivation.\n",
    "derived_key_A_then_B = HKDF(\n",
    "    algorithm = hashes.SHA256(),\n",
    "    length=32,\n",
    "    salt=None,\n",
    "    info=b'handshake data',\n",
    "    backend=default_backend()\n",
    ").derive(shared_key_A_then_B)\n",
    "\n",
    "\n",
    "print(f'derived_key_A_then_B: {derived_key_A_then_B}')\n",
    "\n",
    "\n",
    "\n",
    "\n",
    "\n",
    "\n",
    "\n",
    "\n",
    "\n",
    "\n",
    "\n",
    "\n"
   ]
  },
  {
   "cell_type": "markdown",
   "metadata": {},
   "source": []
  }
 ],
 "metadata": {
  "kernelspec": {
   "display_name": "Python 3",
   "language": "python",
   "name": "python3"
  },
  "language_info": {
   "codemirror_mode": {
    "name": "ipython",
    "version": 3
   },
   "file_extension": ".py",
   "mimetype": "text/x-python",
   "name": "python",
   "nbconvert_exporter": "python",
   "pygments_lexer": "ipython3",
   "version": "3.7.4"
  }
 },
 "nbformat": 4,
 "nbformat_minor": 4
}
