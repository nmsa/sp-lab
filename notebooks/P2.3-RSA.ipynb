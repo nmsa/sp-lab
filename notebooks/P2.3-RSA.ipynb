{
 "cells": [
  {
   "cell_type": "markdown",
   "metadata": {},
   "source": [
    "# Asymetric Encryption\n",
    "\n",
    "<img src=\"res/asymetric.png\">\n"
   ]
  },
  {
   "cell_type": "markdown",
   "metadata": {},
   "source": [
    "### RSA Simple Public-key encryption and decryption \n",
    "\n",
    "<img src=\"./res/250px-Public_key_encryption.svg.png\">"
   ]
  },
  {
   "cell_type": "code",
   "execution_count": 3,
   "metadata": {},
   "outputs": [],
   "source": [
    "from cryptography.hazmat.backends import default_backend\n",
    "from cryptography.hazmat.primitives.asymmetric import rsa\n",
    "from cryptography.hazmat.primitives import hashes\n",
    "from cryptography.hazmat.primitives.asymmetric import padding\n",
    "from cryptography.hazmat.primitives import serialization\n",
    "\n",
    "\n",
    "\n",
    "# TODO generate the key pair\n",
    "\n",
    "\n",
    "\n"
   ]
  },
  {
   "cell_type": "markdown",
   "metadata": {},
   "source": [
    "The public RSA key cab be used for encryption, complemented with OAEP padding and a SHA256 hash"
   ]
  },
  {
   "cell_type": "code",
   "execution_count": 2,
   "metadata": {},
   "outputs": [
    {
     "ename": "NameError",
     "evalue": "name 'ciphertext' is not defined",
     "output_type": "error",
     "traceback": [
      "\u001b[0;31m---------------------------------------------------------------------------\u001b[0m",
      "\u001b[0;31mNameError\u001b[0m                                 Traceback (most recent call last)",
      "\u001b[0;32m<ipython-input-2-1dba5ccf27dd>\u001b[0m in \u001b[0;36m<module>\u001b[0;34m\u001b[0m\n\u001b[1;32m      4\u001b[0m \u001b[0;34m\u001b[0m\u001b[0m\n\u001b[1;32m      5\u001b[0m \u001b[0;34m\u001b[0m\u001b[0m\n\u001b[0;32m----> 6\u001b[0;31m \u001b[0mprint\u001b[0m\u001b[0;34m(\u001b[0m\u001b[0mciphertext\u001b[0m\u001b[0;34m)\u001b[0m\u001b[0;34m\u001b[0m\u001b[0;34m\u001b[0m\u001b[0m\n\u001b[0m",
      "\u001b[0;31mNameError\u001b[0m: name 'ciphertext' is not defined"
     ]
    }
   ],
   "source": [
    "message = b\"encrypt me\"\n",
    "\n",
    "# TODO encypt the message\n",
    "\n",
    "\n",
    "print(ciphertext)"
   ]
  },
  {
   "cell_type": "markdown",
   "metadata": {},
   "source": [
    "Decryption is accomplished with the private key correspondent to the public key used for encryption.\n",
    "We could have also done it the other way around: encrypt with the private key and decrypt with the public one."
   ]
  },
  {
   "cell_type": "code",
   "execution_count": null,
   "metadata": {},
   "outputs": [],
   "source": [
    "#TODO: decrypt message\n",
    "\n",
    "print(plaintext)"
   ]
  },
  {
   "cell_type": "code",
   "execution_count": null,
   "metadata": {},
   "outputs": [],
   "source": []
  },
  {
   "cell_type": "code",
   "execution_count": null,
   "metadata": {},
   "outputs": [],
   "source": [
    "\n"
   ]
  },
  {
   "cell_type": "code",
   "execution_count": 5,
   "metadata": {},
   "outputs": [
    {
     "name": "stdout",
     "output_type": "stream",
     "text": [
      "\n",
      "---  enc_dec_image_rsa  ----\n"
     ]
    },
    {
     "ename": "ValueError",
     "evalue": "Data too long for key size. Encrypt less data or use a larger key size.",
     "output_type": "error",
     "traceback": [
      "\u001b[0;31m---------------------------------------------------------------------------\u001b[0m",
      "\u001b[0;31mValueError\u001b[0m                                Traceback (most recent call last)",
      "\u001b[0;32m<timed exec>\u001b[0m in \u001b[0;36m<module>\u001b[0;34m\u001b[0m\n",
      "\u001b[0;32m<timed exec>\u001b[0m in \u001b[0;36menc_dec_image_rsa\u001b[0;34m(image, public_key, private_key)\u001b[0m\n",
      "\u001b[0;32m/opt/conda/lib/python3.7/site-packages/cryptography/hazmat/backends/openssl/rsa.py\u001b[0m in \u001b[0;36mencrypt\u001b[0;34m(self, plaintext, padding)\u001b[0m\n\u001b[1;32m    446\u001b[0m \u001b[0;34m\u001b[0m\u001b[0m\n\u001b[1;32m    447\u001b[0m     \u001b[0;32mdef\u001b[0m \u001b[0mencrypt\u001b[0m\u001b[0;34m(\u001b[0m\u001b[0mself\u001b[0m\u001b[0;34m,\u001b[0m \u001b[0mplaintext\u001b[0m\u001b[0;34m,\u001b[0m \u001b[0mpadding\u001b[0m\u001b[0;34m)\u001b[0m\u001b[0;34m:\u001b[0m\u001b[0;34m\u001b[0m\u001b[0;34m\u001b[0m\u001b[0m\n\u001b[0;32m--> 448\u001b[0;31m         \u001b[0;32mreturn\u001b[0m \u001b[0m_enc_dec_rsa\u001b[0m\u001b[0;34m(\u001b[0m\u001b[0mself\u001b[0m\u001b[0;34m.\u001b[0m\u001b[0m_backend\u001b[0m\u001b[0;34m,\u001b[0m \u001b[0mself\u001b[0m\u001b[0;34m,\u001b[0m \u001b[0mplaintext\u001b[0m\u001b[0;34m,\u001b[0m \u001b[0mpadding\u001b[0m\u001b[0;34m)\u001b[0m\u001b[0;34m\u001b[0m\u001b[0;34m\u001b[0m\u001b[0m\n\u001b[0m\u001b[1;32m    449\u001b[0m \u001b[0;34m\u001b[0m\u001b[0m\n\u001b[1;32m    450\u001b[0m     \u001b[0;32mdef\u001b[0m \u001b[0mpublic_numbers\u001b[0m\u001b[0;34m(\u001b[0m\u001b[0mself\u001b[0m\u001b[0;34m)\u001b[0m\u001b[0;34m:\u001b[0m\u001b[0;34m\u001b[0m\u001b[0;34m\u001b[0m\u001b[0m\n",
      "\u001b[0;32m/opt/conda/lib/python3.7/site-packages/cryptography/hazmat/backends/openssl/rsa.py\u001b[0m in \u001b[0;36m_enc_dec_rsa\u001b[0;34m(backend, key, data, padding)\u001b[0m\n\u001b[1;32m     66\u001b[0m         )\n\u001b[1;32m     67\u001b[0m \u001b[0;34m\u001b[0m\u001b[0m\n\u001b[0;32m---> 68\u001b[0;31m     \u001b[0;32mreturn\u001b[0m \u001b[0m_enc_dec_rsa_pkey_ctx\u001b[0m\u001b[0;34m(\u001b[0m\u001b[0mbackend\u001b[0m\u001b[0;34m,\u001b[0m \u001b[0mkey\u001b[0m\u001b[0;34m,\u001b[0m \u001b[0mdata\u001b[0m\u001b[0;34m,\u001b[0m \u001b[0mpadding_enum\u001b[0m\u001b[0;34m,\u001b[0m \u001b[0mpadding\u001b[0m\u001b[0;34m)\u001b[0m\u001b[0;34m\u001b[0m\u001b[0;34m\u001b[0m\u001b[0m\n\u001b[0m\u001b[1;32m     69\u001b[0m \u001b[0;34m\u001b[0m\u001b[0m\n\u001b[1;32m     70\u001b[0m \u001b[0;34m\u001b[0m\u001b[0m\n",
      "\u001b[0;32m/opt/conda/lib/python3.7/site-packages/cryptography/hazmat/backends/openssl/rsa.py\u001b[0m in \u001b[0;36m_enc_dec_rsa_pkey_ctx\u001b[0;34m(backend, key, data, padding_enum, padding)\u001b[0m\n\u001b[1;32m    120\u001b[0m     \u001b[0mres\u001b[0m \u001b[0;34m=\u001b[0m \u001b[0mcrypt\u001b[0m\u001b[0;34m(\u001b[0m\u001b[0mpkey_ctx\u001b[0m\u001b[0;34m,\u001b[0m \u001b[0mbuf\u001b[0m\u001b[0;34m,\u001b[0m \u001b[0moutlen\u001b[0m\u001b[0;34m,\u001b[0m \u001b[0mdata\u001b[0m\u001b[0;34m,\u001b[0m \u001b[0mlen\u001b[0m\u001b[0;34m(\u001b[0m\u001b[0mdata\u001b[0m\u001b[0;34m)\u001b[0m\u001b[0;34m)\u001b[0m\u001b[0;34m\u001b[0m\u001b[0;34m\u001b[0m\u001b[0m\n\u001b[1;32m    121\u001b[0m     \u001b[0;32mif\u001b[0m \u001b[0mres\u001b[0m \u001b[0;34m<=\u001b[0m \u001b[0;36m0\u001b[0m\u001b[0;34m:\u001b[0m\u001b[0;34m\u001b[0m\u001b[0;34m\u001b[0m\u001b[0m\n\u001b[0;32m--> 122\u001b[0;31m         \u001b[0m_handle_rsa_enc_dec_error\u001b[0m\u001b[0;34m(\u001b[0m\u001b[0mbackend\u001b[0m\u001b[0;34m,\u001b[0m \u001b[0mkey\u001b[0m\u001b[0;34m)\u001b[0m\u001b[0;34m\u001b[0m\u001b[0;34m\u001b[0m\u001b[0m\n\u001b[0m\u001b[1;32m    123\u001b[0m \u001b[0;34m\u001b[0m\u001b[0m\n\u001b[1;32m    124\u001b[0m     \u001b[0;32mreturn\u001b[0m \u001b[0mbackend\u001b[0m\u001b[0;34m.\u001b[0m\u001b[0m_ffi\u001b[0m\u001b[0;34m.\u001b[0m\u001b[0mbuffer\u001b[0m\u001b[0;34m(\u001b[0m\u001b[0mbuf\u001b[0m\u001b[0;34m)\u001b[0m\u001b[0;34m[\u001b[0m\u001b[0;34m:\u001b[0m\u001b[0moutlen\u001b[0m\u001b[0;34m[\u001b[0m\u001b[0;36m0\u001b[0m\u001b[0;34m]\u001b[0m\u001b[0;34m]\u001b[0m\u001b[0;34m\u001b[0m\u001b[0;34m\u001b[0m\u001b[0m\n",
      "\u001b[0;32m/opt/conda/lib/python3.7/site-packages/cryptography/hazmat/backends/openssl/rsa.py\u001b[0m in \u001b[0;36m_handle_rsa_enc_dec_error\u001b[0;34m(backend, key)\u001b[0m\n\u001b[1;32m    134\u001b[0m         )\n\u001b[1;32m    135\u001b[0m         raise ValueError(\n\u001b[0;32m--> 136\u001b[0;31m             \u001b[0;34m\"Data too long for key size. Encrypt less data or use a \"\u001b[0m\u001b[0;34m\u001b[0m\u001b[0;34m\u001b[0m\u001b[0m\n\u001b[0m\u001b[1;32m    137\u001b[0m             \u001b[0;34m\"larger key size.\"\u001b[0m\u001b[0;34m\u001b[0m\u001b[0;34m\u001b[0m\u001b[0m\n\u001b[1;32m    138\u001b[0m         )\n",
      "\u001b[0;31mValueError\u001b[0m: Data too long for key size. Encrypt less data or use a larger key size."
     ]
    }
   ],
   "source": [
    "%%time\n",
    "\n",
    "\n",
    "from PIL import Image\n",
    "from argparse import ArgumentParser\n",
    "import matplotlib.pyplot as plt\n",
    "\n",
    "\n",
    "\n",
    "def enc_dec_image_rsa(image, public_key, private_key):\n",
    "    image_array = image.tobytes()\n",
    "    \n",
    "    \n",
    "    image_array    = image.tobytes()\n",
    "    \n",
    "\n",
    "    \n",
    "    \n",
    "    \n",
    "    \n",
    "    \n",
    "    \n",
    "    \n",
    "    \n",
    "    \n",
    "    return Image.frombytes(\"RGB\", image.size, decrypted_image_unpadded, \"raw\", \"RGB\")\n",
    "\n",
    "\n",
    "\n",
    "\n",
    "image = Image.open('res/penguin.png').convert('RGBA').convert('RGB') \n",
    "\n",
    "\n",
    "#Generate RSA  keys\n",
    "private_key = rsa.generate_private_key(public_exponent=65537,key_size=2048,backend=default_backend())\n",
    "public_key = private_key.public_key()\n",
    "\n",
    "\n",
    "print('\\n---  enc_dec_image_rsa  ----')\n",
    "\n",
    "decrypted_image = enc_dec_image_rsa(image, public_key, private_key)\n",
    "decrypted_image.save('output/penguin_correct.png')\n",
    "\n",
    "\n",
    "f, axarr = plt.subplots(1,2, figsize=(20,20))\n",
    "\n",
    "axarr[0].imshow(image)\n",
    "axarr[1].imshow(decrypted_image)\n",
    "\n"
   ]
  },
  {
   "cell_type": "code",
   "execution_count": null,
   "metadata": {},
   "outputs": [],
   "source": []
  },
  {
   "cell_type": "code",
   "execution_count": null,
   "metadata": {},
   "outputs": [],
   "source": []
  },
  {
   "cell_type": "markdown",
   "metadata": {},
   "source": [
    "<img src=\"res/model_digital_signature.jpg\">\n",
    "\n",
    "\n",
    "## Signing with RSA\n",
    "\n",
    "Generate Private RSA Key\n",
    "\n",
    "Digital Signature is a cryptographic process used to ensure the integrity of contents in transit. \n",
    "\n",
    "We can start by creating an RSA public and private key pair:"
   ]
  },
  {
   "cell_type": "code",
   "execution_count": null,
   "metadata": {},
   "outputs": [],
   "source": [
    "from cryptography.hazmat.backends import default_backend\n",
    "from cryptography.hazmat.primitives.asymmetric import rsa\n",
    "\n",
    "#Generate Private Key\n",
    "#public_exponent - The public exponent of the new key. \n",
    "#                  Usually one of the small Fermat primes 3, 5, 17, 257, 65537\n",
    "#key_size - The length of the modulus in bits.\n",
    "# .         For keys generated in 2015 it is strongly recommended to be at least 2048\n",
    "# backends are the interfaces used to support the crpytographic operations, such as OpenSSL\n",
    "private_key = rsa.generate_private_key(public_exponent=65537, key_size=4096, backend=default_backend())\n",
    "\n",
    "#Get public key from the private\n",
    "public_key = private_key.public_key()"
   ]
  },
  {
   "cell_type": "markdown",
   "metadata": {},
   "source": [
    "Following, we sign a message with the hash SHA256 and the private key from RSA"
   ]
  },
  {
   "cell_type": "code",
   "execution_count": null,
   "metadata": {},
   "outputs": [],
   "source": [
    "from cryptography.hazmat.primitives.asymmetric import padding\n",
    "from cryptography.hazmat.primitives import hashes\n",
    "\n",
    "message = b\"Some text I want to sign\"\n",
    "\n",
    "\n",
    "#TODO Sign a message using the SHA256 hash and the RSA private-key\n",
    "#Padding - it is recommended to use PSS or PKCS1v15\n"
   ]
  },
  {
   "cell_type": "markdown",
   "metadata": {},
   "source": [
    "To verify the signature, we use the public key:"
   ]
  },
  {
   "cell_type": "code",
   "execution_count": null,
   "metadata": {},
   "outputs": [],
   "source": [
    "#TODO Verify the signature "
   ]
  },
  {
   "cell_type": "code",
   "execution_count": null,
   "metadata": {},
   "outputs": [],
   "source": [
    "#If the signature does not match the message, an InvalidSignature exception will be raised\n",
    "message = b\"Some other text I want to sign\"\n",
    "\n",
    "#TODO Verify the signature with the wrong message\n",
    "\n"
   ]
  },
  {
   "cell_type": "code",
   "execution_count": null,
   "metadata": {},
   "outputs": [],
   "source": []
  },
  {
   "cell_type": "markdown",
   "metadata": {},
   "source": [
    "## Signing with ECDSA (Elliptic Curve Digital Signature Algorithm)\n",
    "\n",
    "Elliptic curves allegedly provide equivalent security at much smaller key sizes than RSA. Recommended curves should have at least 224 bits (for RSA it is 2048). ECC is evolving really fast, reason why it is really important to make sure the appropriate/recommended/considered safe curves are used. \n",
    "\n",
    "<img src=res/ecdsa.jpeg>\n",
    "\n",
    "Similarly to the previous process, EDCSA starts by generating a private key using EC, using the curve P-384:\n",
    "P-384 is the elliptic curve currently specified in NSA Suite B Cryptography for the ECDSA and ECDH (Diffie-Hellman: key exchange) algorithms. It is a 384 bit curve. "
   ]
  },
  {
   "cell_type": "code",
   "execution_count": null,
   "metadata": {},
   "outputs": [],
   "source": [
    "from cryptography.hazmat.backends import default_backend\n",
    "from cryptography.hazmat.primitives import hashes\n",
    "from cryptography.hazmat.primitives.asymmetric import ec\n",
    "\n",
    "#TODO Generate a pair of private key and public key with EC\n",
    "# curve is the selected eliptic curve\n",
    "# backends are the interfaces used to support the crpytographic operations, such as OpenSSL\n",
    "\n",
    "#\n",
    "\n",
    "message = b\"Some text I want to sign with ECDSA\"\n",
    "\n",
    "#TODO Sign the data with the private EC key and SHA256 hash\n",
    "#\n",
    "#"
   ]
  },
  {
   "cell_type": "code",
   "execution_count": null,
   "metadata": {},
   "outputs": [],
   "source": [
    "We can verify the signature by using the public key, the message and the signature:\n",
    "\n",
    "<img src=\"res/ecdsa_verify.png\">"
   ]
  },
  {
   "cell_type": "code",
   "execution_count": null,
   "metadata": {},
   "outputs": [],
   "source": [
    "# TODO verify the signature with the public key\n",
    "\n",
    "public_key.verify(signature, message, ec.ECDSA(hashes.SHA256()))\n"
   ]
  },
  {
   "cell_type": "code",
   "execution_count": null,
   "metadata": {},
   "outputs": [],
   "source": [
    "message = b\"Some text I want to sign with ECDSA-\"\n",
    "\n"
   ]
  },
  {
   "cell_type": "code",
   "execution_count": null,
   "metadata": {},
   "outputs": [],
   "source": []
  },
  {
   "cell_type": "code",
   "execution_count": null,
   "metadata": {},
   "outputs": [],
   "source": []
  },
  {
   "cell_type": "code",
   "execution_count": null,
   "metadata": {},
   "outputs": [],
   "source": []
  },
  {
   "cell_type": "markdown",
   "metadata": {},
   "source": []
  }
 ],
 "metadata": {
  "kernelspec": {
   "display_name": "Python 3",
   "language": "python",
   "name": "python3"
  },
  "language_info": {
   "codemirror_mode": {
    "name": "ipython",
    "version": 3
   },
   "file_extension": ".py",
   "mimetype": "text/x-python",
   "name": "python",
   "nbconvert_exporter": "python",
   "pygments_lexer": "ipython3",
   "version": "3.7.4"
  }
 },
 "nbformat": 4,
 "nbformat_minor": 4
}
