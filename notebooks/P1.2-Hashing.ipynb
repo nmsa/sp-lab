{
 "cells": [
  {
   "cell_type": "markdown",
   "metadata": {},
   "source": [
    "# Password storage\n",
    "\n",
    "\n",
    "## Password Storage using PyNaCl\n",
    "\n",
    "Password hashing are based on the idea of iterating a hash function many times on a combination of the password and a random salt, which is stored along with the hash.\n",
    "The example shows that hashing the password multiple times results in different hashes, due to the random salt.\n",
    "The default password storage mechanism in *libsodium* is *argon2id*, but nacl.pwhash also exposes *argon2i* and *script*.\n",
    "\n",
    "From https://argon2.online/, https://github.com/P-H-C/phc-winner-argon2:\n",
    "\n",
    "\"Argon2i, Argon2d, and Argon2id are parametrized by:\n",
    "\n",
    "* A time cost, which defines the amount of computation realized and therefore the execution time, given in number of iterations\n",
    "* A memory cost, which defines the memory usage, given in kibibytes\n",
    "* A parallelism degree, which defines the number of parallel threads\"\n",
    "\n",
    "\n",
    "* Argon2d maximizes resistance to GPU cracking attacks. It accesses the memory array in a password dependent order, which reduces the possibility of time–memory trade-off (TMTO) attacks, but introduces possible side-channel attacks.\n",
    "* Argon2i is optimized to resist side-channel attacks. It accesses the memory array in a password independent order.\n",
    "* Argon2id is a hybrid version. It follows the Argon2i approach for the first pass over memory and the Argon2d approach for subsequent passes. The Internet draft[4] recommends using Argon2id except when there are reasons to prefer one of the other two modes.\n"
   ]
  },
  {
   "cell_type": "code",
   "execution_count": 66,
   "metadata": {},
   "outputs": [
    {
     "name": "stdout",
     "output_type": "stream",
     "text": [
      "b'correct horse battery staple'\n",
      "b'correct horse battery staple'\n",
      "b'correct horse battery staple'\n"
     ]
    }
   ],
   "source": [
    "import nacl.pwhash as pwhash\n",
    "\n",
    "password = b'correct horse battery staple' \n",
    "\n",
    "for i in range(3):\n",
    "    print(password ) # todo replace by hashing the password\n",
    "    \n"
   ]
  },
  {
   "cell_type": "markdown",
   "metadata": {},
   "source": [
    "In the output:\n",
    "* `argon2id` — the variant of Argon2 being used.\n",
    "* `v=19` — the version of Argon2 being used.\n",
    "* `m=65536,t=2,p=1` — the memory (m), iterations (t) and parallelism (p) parameters being used.\n",
    "* `$(...)$(...)` — the base64-encoded salt, using standard base64-encoding and no padding along with the base64-encoded hashed password (derived key), using standard base64-encoding and no padding. The salt and password are separated by the symbol $.\n",
    "\n",
    "\n"
   ]
  },
  {
   "cell_type": "code",
   "execution_count": 67,
   "metadata": {},
   "outputs": [],
   "source": [
    "\n",
    "\n",
    "# todo verify password\n",
    "\n",
    "\n"
   ]
  },
  {
   "cell_type": "markdown",
   "metadata": {},
   "source": [
    "\n",
    "If the verification fails, an *InvalidkeyError* exception is raised:\n",
    "\n"
   ]
  },
  {
   "cell_type": "code",
   "execution_count": 68,
   "metadata": {},
   "outputs": [
    {
     "name": "stdout",
     "output_type": "stream",
     "text": [
      "b'correct horse battery staple'\n"
     ]
    }
   ],
   "source": [
    "wrong_pass = b'A really strong password'\n",
    "\n",
    "try:\n",
    "    print(password )# todo verify password\n",
    "    \n",
    "except pwhash.InvalidkeyError:\n",
    "    print (\"Wrong password!!\")\n"
   ]
  },
  {
   "cell_type": "markdown",
   "metadata": {},
   "source": [
    "### Why not use SHA or MD5 for password storage\n",
    "\n",
    "Password hash should take the following considerations:\n",
    "**Collision attacks**: exclude MD5 (128-bit hash size)\n",
    "**Lookup Tables**: the solution is to add a random salt, which argon2id automatically does\n",
    "**Key-stretching algorithms**: slow down the password verification, to slow down brute-force attacks\n",
    "\n",
    "Let's compare the speed between a SHA-256 hash verification and the argon2id:"
   ]
  },
  {
   "cell_type": "code",
   "execution_count": 69,
   "metadata": {},
   "outputs": [],
   "source": [
    "import nacl.encoding\n",
    "import nacl.hash\n",
    "from nacl.bindings.utils import sodium_memcmp\n",
    "\n",
    "HASHER = nacl.hash.sha256\n",
    "digest = HASHER(password, encoder=nacl.encoding.HexEncoder)\n",
    "\n"
   ]
  },
  {
   "cell_type": "code",
   "execution_count": 70,
   "metadata": {},
   "outputs": [
    {
     "name": "stdout",
     "output_type": "stream",
     "text": [
      "CPU times: user 832 µs, sys: 972 µs, total: 1.8 ms\n",
      "Wall time: 1.03 ms\n"
     ]
    }
   ],
   "source": [
    "%%time\n",
    "for lp in range(50):\n",
    "    digest2 = HASHER(password, encoder=nacl.encoding.HexEncoder)\n",
    "    sodium_memcmp(digest, digest2)"
   ]
  },
  {
   "cell_type": "code",
   "execution_count": 71,
   "metadata": {},
   "outputs": [
    {
     "name": "stdout",
     "output_type": "stream",
     "text": [
      "CPU times: user 3.15 s, sys: 714 ms, total: 3.87 s\n",
      "Wall time: 3.88 s\n"
     ]
    }
   ],
   "source": [
    "%%time\n",
    "for lp in range(50):\n",
    "    pwhash.verify(hashed, password)"
   ]
  },
  {
   "cell_type": "code",
   "execution_count": null,
   "metadata": {
    "scrolled": true
   },
   "outputs": [],
   "source": [
    "\n",
    "\n",
    "\n",
    "\n"
   ]
  },
  {
   "cell_type": "markdown",
   "metadata": {},
   "source": [
    "\n",
    "\n",
    "# Message Authentication Codes\n",
    "\n",
    "\n",
    "\n"
   ]
  },
  {
   "cell_type": "code",
   "execution_count": 9,
   "metadata": {},
   "outputs": [],
   "source": [
    "from cryptography.hazmat.backends import default_backend\n",
    "from cryptography.hazmat.primitives import cmac, hashes, hmac\n",
    "from cryptography.hazmat.primitives.ciphers import algorithms\n",
    "\n",
    "key = b'$C&F)J@NcRfUjXnZ' # 128-bit key for AES\n",
    "\n",
    "#TODO compute the MAC\n"
   ]
  },
  {
   "cell_type": "code",
   "execution_count": 10,
   "metadata": {},
   "outputs": [],
   "source": [
    "# todo verify the MAC\n",
    "\n"
   ]
  },
  {
   "cell_type": "code",
   "execution_count": 11,
   "metadata": {},
   "outputs": [
    {
     "data": {
      "text/plain": [
       "b'\\xb0~*\\x9a\\x96\\xd3=\\xc0\\xa9(\\x02\\x97Kq\\xb4\\x8brb\\xb8\\xc9M2\\xd4a}Em\\xa7\\xec.g\\x12'"
      ]
     },
     "execution_count": 11,
     "metadata": {},
     "output_type": "execute_result"
    }
   ],
   "source": [
    "h = hmac.HMAC(key, hashes.SHA256(), backend=default_backend())\n",
    "h.update(b\"message to hash\")\n",
    "h.finalize()"
   ]
  },
  {
   "cell_type": "code",
   "execution_count": 12,
   "metadata": {},
   "outputs": [
    {
     "ename": "InvalidSignature",
     "evalue": "Signature did not match digest.",
     "output_type": "error",
     "traceback": [
      "\u001b[0;31m---------------------------------------------------------------------------\u001b[0m",
      "\u001b[0;31mInvalidSignature\u001b[0m                          Traceback (most recent call last)",
      "\u001b[0;32m<ipython-input-12-2d551f9c2568>\u001b[0m in \u001b[0;36m<module>\u001b[0;34m\u001b[0m\n\u001b[1;32m      1\u001b[0m \u001b[0mh\u001b[0m \u001b[0;34m=\u001b[0m \u001b[0mhmac\u001b[0m\u001b[0;34m.\u001b[0m\u001b[0mHMAC\u001b[0m\u001b[0;34m(\u001b[0m\u001b[0mkey\u001b[0m\u001b[0;34m,\u001b[0m \u001b[0mhashes\u001b[0m\u001b[0;34m.\u001b[0m\u001b[0mSHA256\u001b[0m\u001b[0;34m(\u001b[0m\u001b[0;34m)\u001b[0m\u001b[0;34m,\u001b[0m \u001b[0mbackend\u001b[0m\u001b[0;34m=\u001b[0m\u001b[0mdefault_backend\u001b[0m\u001b[0;34m(\u001b[0m\u001b[0;34m)\u001b[0m\u001b[0;34m)\u001b[0m\u001b[0;34m\u001b[0m\u001b[0;34m\u001b[0m\u001b[0m\n\u001b[1;32m      2\u001b[0m \u001b[0mh\u001b[0m\u001b[0;34m.\u001b[0m\u001b[0mupdate\u001b[0m\u001b[0;34m(\u001b[0m\u001b[0;34mb\"message to hash\"\u001b[0m\u001b[0;34m)\u001b[0m\u001b[0;34m\u001b[0m\u001b[0;34m\u001b[0m\u001b[0m\n\u001b[0;32m----> 3\u001b[0;31m \u001b[0mh\u001b[0m\u001b[0;34m.\u001b[0m\u001b[0mverify\u001b[0m\u001b[0;34m(\u001b[0m\u001b[0;34mb\"an incorrect signature\"\u001b[0m\u001b[0;34m)\u001b[0m\u001b[0;34m\u001b[0m\u001b[0;34m\u001b[0m\u001b[0m\n\u001b[0m",
      "\u001b[0;32m/opt/conda/lib/python3.7/site-packages/cryptography/hazmat/primitives/hmac.py\u001b[0m in \u001b[0;36mverify\u001b[0;34m(self, signature)\u001b[0m\n\u001b[1;32m     64\u001b[0m \u001b[0;34m\u001b[0m\u001b[0m\n\u001b[1;32m     65\u001b[0m         \u001b[0mctx\u001b[0m\u001b[0;34m,\u001b[0m \u001b[0mself\u001b[0m\u001b[0;34m.\u001b[0m\u001b[0m_ctx\u001b[0m \u001b[0;34m=\u001b[0m \u001b[0mself\u001b[0m\u001b[0;34m.\u001b[0m\u001b[0m_ctx\u001b[0m\u001b[0;34m,\u001b[0m \u001b[0;32mNone\u001b[0m\u001b[0;34m\u001b[0m\u001b[0;34m\u001b[0m\u001b[0m\n\u001b[0;32m---> 66\u001b[0;31m         \u001b[0mctx\u001b[0m\u001b[0;34m.\u001b[0m\u001b[0mverify\u001b[0m\u001b[0;34m(\u001b[0m\u001b[0msignature\u001b[0m\u001b[0;34m)\u001b[0m\u001b[0;34m\u001b[0m\u001b[0;34m\u001b[0m\u001b[0m\n\u001b[0m",
      "\u001b[0;32m/opt/conda/lib/python3.7/site-packages/cryptography/hazmat/backends/openssl/hmac.py\u001b[0m in \u001b[0;36mverify\u001b[0;34m(self, signature)\u001b[0m\n\u001b[1;32m     72\u001b[0m         \u001b[0mdigest\u001b[0m \u001b[0;34m=\u001b[0m \u001b[0mself\u001b[0m\u001b[0;34m.\u001b[0m\u001b[0mfinalize\u001b[0m\u001b[0;34m(\u001b[0m\u001b[0;34m)\u001b[0m\u001b[0;34m\u001b[0m\u001b[0;34m\u001b[0m\u001b[0m\n\u001b[1;32m     73\u001b[0m         \u001b[0;32mif\u001b[0m \u001b[0;32mnot\u001b[0m \u001b[0mconstant_time\u001b[0m\u001b[0;34m.\u001b[0m\u001b[0mbytes_eq\u001b[0m\u001b[0;34m(\u001b[0m\u001b[0mdigest\u001b[0m\u001b[0;34m,\u001b[0m \u001b[0msignature\u001b[0m\u001b[0;34m)\u001b[0m\u001b[0;34m:\u001b[0m\u001b[0;34m\u001b[0m\u001b[0;34m\u001b[0m\u001b[0m\n\u001b[0;32m---> 74\u001b[0;31m             \u001b[0;32mraise\u001b[0m \u001b[0mInvalidSignature\u001b[0m\u001b[0;34m(\u001b[0m\u001b[0;34m\"Signature did not match digest.\"\u001b[0m\u001b[0;34m)\u001b[0m\u001b[0;34m\u001b[0m\u001b[0;34m\u001b[0m\u001b[0m\n\u001b[0m",
      "\u001b[0;31mInvalidSignature\u001b[0m: Signature did not match digest."
     ]
    }
   ],
   "source": [
    "h = hmac.HMAC(key, hashes.SHA256(), backend=default_backend())\n",
    "h.update(b\"message to hash\")\n",
    "h.verify(b\"an incorrect signature\")"
   ]
  },
  {
   "cell_type": "code",
   "execution_count": null,
   "metadata": {},
   "outputs": [],
   "source": []
  },
  {
   "cell_type": "code",
   "execution_count": null,
   "metadata": {},
   "outputs": [],
   "source": []
  },
  {
   "cell_type": "markdown",
   "metadata": {},
   "source": [
    "# Authenticated encryption\n",
    "\n",
    "\n",
    "Authenticated encryption (AE) and authenticated encryption with associated data (AEAD) are forms of encryption which simultaneously assure the confidentiality and authenticity of data.\n",
    "These attributes are provided under a single, easy to use programming interface.\n",
    "\n",
    "\n",
    "![](res/aead.png)\n"
   ]
  },
  {
   "cell_type": "code",
   "execution_count": null,
   "metadata": {},
   "outputs": [],
   "source": [
    "import os\n",
    "from cryptography.hazmat.primitives.ciphers.aead import AESGCM\n",
    "\n",
    "plaintext = b\"a secret and encrypted message\"\n",
    "\n",
    "associated_data = b\"authenticated but unencrypted data\"\n",
    "\n",
    "key = AESGCM.generate_key(bit_length=256)\n",
    "aesgcm = AESGCM(key)\n",
    "\n"
   ]
  },
  {
   "cell_type": "code",
   "execution_count": null,
   "metadata": {},
   "outputs": [],
   "source": [
    "\n",
    "\n",
    "print(ciphertext)"
   ]
  },
  {
   "cell_type": "code",
   "execution_count": null,
   "metadata": {},
   "outputs": [],
   "source": [
    "aesgcm.decrypt(nonce, ciphertext, associated_data)"
   ]
  },
  {
   "cell_type": "code",
   "execution_count": null,
   "metadata": {},
   "outputs": [],
   "source": [
    "aesgcm.decrypt(nonce, ciphertext, b\"altered associated data\")"
   ]
  }
 ],
 "metadata": {
  "kernelspec": {
   "display_name": "Python 3",
   "language": "python",
   "name": "python3"
  },
  "language_info": {
   "codemirror_mode": {
    "name": "ipython",
    "version": 3
   },
   "file_extension": ".py",
   "mimetype": "text/x-python",
   "name": "python",
   "nbconvert_exporter": "python",
   "pygments_lexer": "ipython3",
   "version": "3.7.4"
  }
 },
 "nbformat": 4,
 "nbformat_minor": 4
}
